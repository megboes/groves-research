{
  "nbformat": 4,
  "nbformat_minor": 0,
  "metadata": {
    "colab": {
      "provenance": [],
      "authorship_tag": "ABX9TyPKCvi8HQ8dNCj3elhD2X9L",
      "include_colab_link": true
    },
    "kernelspec": {
      "name": "python3",
      "display_name": "Python 3"
    },
    "language_info": {
      "name": "python"
    }
  },
  "cells": [
    {
      "cell_type": "markdown",
      "metadata": {
        "id": "view-in-github",
        "colab_type": "text"
      },
      "source": [
        "<a href=\"https://colab.research.google.com/github/megboes/groves-research/blob/main/Groves.ipynb\" target=\"_parent\"><img src=\"https://colab.research.google.com/assets/colab-badge.svg\" alt=\"Open In Colab\"/></a>"
      ]
    },
    {
      "cell_type": "code",
      "execution_count": 31,
      "metadata": {
        "id": "kh7BzAYVCmcG",
        "colab": {
          "base_uri": "https://localhost:8080/"
        },
        "outputId": "543830fb-0cce-4ef0-cf53-334b9806b980"
      },
      "outputs": [
        {
          "output_type": "stream",
          "name": "stdout",
          "text": [
            "hello bob.\n"
          ]
        }
      ],
      "source": [
        "print(\"hello bob.\")"
      ]
    },
    {
      "cell_type": "code",
      "source": [
        "import numpy as np\n",
        "import matplotlib.pyplot as plt\n",
        "import math\n",
        "import sympy as sp\n",
        "\n",
        "max_num_boxes=11"
      ],
      "metadata": {
        "id": "qbl0j1-CEAJI"
      },
      "execution_count": 32,
      "outputs": []
    },
    {
      "cell_type": "code",
      "source": [
        "T1 = np.array([[math.sqrt(3)+3, math.sqrt(3)-3, -2*math.sqrt(3)],\n",
        "              [math.sqrt(3)-3, math.sqrt(3)+3, -2*math.sqrt(3)]])\n",
        "T = (1/6)*T1\n",
        "\n",
        "pi_0=[[]]\n",
        "pi_1=[[[0,0,0]]]\n",
        "pi_2=[[[0,0,0],[0,0,1]],[[0,0,0],[0,1,0]],[[0,0,0],[1,0,0]]]\n",
        "master_pi=[pi_0,pi_1,pi_2]"
      ],
      "metadata": {
        "id": "48-nXgMKEKcg"
      },
      "execution_count": 33,
      "outputs": []
    },
    {
      "cell_type": "code",
      "source": [
        "def check_if_box_should_be_added(box, partition):\n",
        "  we_should_add=True\n",
        "  a,b,c=box\n",
        "  if box in partition:\n",
        "    we_should_add=False\n",
        "  if (a>=1)and([a-1,b,c] in partition)==False:\n",
        "    we_should_add=False\n",
        "  if (b>=1)and([a,b-1,c] in partition)==False:\n",
        "    we_should_add=False\n",
        "  if (c>=1)and([a,b,c-1] in partition)==False:\n",
        "    we_should_add=False\n",
        "  return(we_should_add)\n",
        "\n",
        "def given_single_partitions_produces_list_of_bigger_partitions(given_partition):\n",
        "  some_partitions_of_more_boxes = []\n",
        "  for element in given_partition:\n",
        "    a,b,c=element\n",
        "    candidate=[a+1,b,c]\n",
        "    result=check_if_box_should_be_added(candidate,given_partition)\n",
        "    if result==True:\n",
        "      pi_plus = given_partition+[candidate]\n",
        "      some_partitions_of_more_boxes.append(pi_plus)\n",
        "\n",
        "  for element in given_partition:\n",
        "    a,b,c=element\n",
        "    candidate=[a,b+1,c]\n",
        "    result=check_if_box_should_be_added(candidate,given_partition)\n",
        "    if result==True:\n",
        "      pi_plus = given_partition+[candidate]\n",
        "      some_partitions_of_more_boxes.append(pi_plus)\n",
        "\n",
        "  for element in given_partition:\n",
        "    a,b,c=element\n",
        "    candidate=[a,b,c+1]\n",
        "    result=check_if_box_should_be_added(candidate,given_partition)\n",
        "    if result==True:\n",
        "      pi_plus = given_partition+[candidate]\n",
        "      some_partitions_of_more_boxes.append(pi_plus)\n",
        "  return(some_partitions_of_more_boxes)\n",
        "\n",
        "def deletes_duplicates(collection_of_partitions):\n",
        "  trial=collection_of_partitions\n",
        "  for element in trial:\n",
        "   number=trial.count(element)\n",
        "   while number >=2:\n",
        "     trial.remove(element)\n",
        "     number=trial.count(element)\n",
        "  collection_of_partitions=trial\n",
        "  return(collection_of_partitions)"
      ],
      "metadata": {
        "id": "Gbs30XvUEYdi"
      },
      "execution_count": 34,
      "outputs": []
    },
    {
      "cell_type": "code",
      "source": [
        "def given_partition_determines_height(partition):\n",
        "  #find size of space needed for grove\n",
        "  height=0\n",
        "  for box in partition:\n",
        "    a,b,c=box\n",
        "    height = max(height, a+b+c)\n",
        "  height+=2\n",
        "  return(height)"
      ],
      "metadata": {
        "id": "qqd5SIp9Ekms"
      },
      "execution_count": 35,
      "outputs": []
    },
    {
      "cell_type": "code",
      "source": [
        "def generates_bigger_master_pi(master_pi):\n",
        "\n",
        "################################### next block generates paritions up to max_num_boxes #################################3\n",
        "#yeah, this should be it's own function\n",
        "  for i in range(2,max_num_boxes):\n",
        "    for part in master_pi[i]:\n",
        "        if len(master_pi)==i+1:\n",
        "          master_pi.append(given_single_partitions_produces_list_of_bigger_partitions(part))\n",
        "        elif len(master_pi)==i+2:\n",
        "          master_pi[i+1]+=given_single_partitions_produces_list_of_bigger_partitions(part)\n",
        "        else: print('something went wrong')\n",
        "    for part in master_pi[i+1]:\n",
        "      part.sort()\n",
        "      master_pi[i+1].sort()\n",
        "    master_pi[i+1] = deletes_duplicates(master_pi[i+1])\n",
        "  return(master_pi)\n",
        "################ paritions up to max_num_boxes, i.e. MASTER_PI complete ###########################3\n"
      ],
      "metadata": {
        "id": "zKPJYV4_ExRa"
      },
      "execution_count": 36,
      "outputs": []
    },
    {
      "cell_type": "code",
      "source": [
        "master_pi=generates_bigger_master_pi(master_pi)\n",
        "\n",
        "for i in range(1, len(master_pi)):\n",
        "  print(\"The \"+str(len(master_pi[i]))+\" partitions with \"+str(i)+\" boxes are:\")\n",
        "  #for guy in master_pi[i]:\n",
        "    #print(guy)"
      ],
      "metadata": {
        "colab": {
          "base_uri": "https://localhost:8080/"
        },
        "id": "zry8_kYbE3QS",
        "outputId": "a6154d4f-e393-4c99-e9a8-332b3740fefc"
      },
      "execution_count": 37,
      "outputs": [
        {
          "output_type": "stream",
          "name": "stdout",
          "text": [
            "The 1 partitions with 1 boxes are:\n",
            "The 3 partitions with 2 boxes are:\n",
            "The 6 partitions with 3 boxes are:\n",
            "The 13 partitions with 4 boxes are:\n",
            "The 24 partitions with 5 boxes are:\n",
            "The 48 partitions with 6 boxes are:\n",
            "The 86 partitions with 7 boxes are:\n",
            "The 160 partitions with 8 boxes are:\n",
            "The 282 partitions with 9 boxes are:\n",
            "The 500 partitions with 10 boxes are:\n",
            "The 859 partitions with 11 boxes are:\n"
          ]
        }
      ]
    }
  ]
}