{
  "nbformat": 4,
  "nbformat_minor": 0,
  "metadata": {
    "colab": {
      "provenance": [],
      "authorship_tag": "ABX9TyMhOMDGfX4Ozds2aHYb5bv+",
      "include_colab_link": true
    },
    "kernelspec": {
      "name": "python3",
      "display_name": "Python 3"
    },
    "language_info": {
      "name": "python"
    }
  },
  "cells": [
    {
      "cell_type": "markdown",
      "metadata": {
        "id": "view-in-github",
        "colab_type": "text"
      },
      "source": [
        "<a href=\"https://colab.research.google.com/github/megboes/groves-research/blob/main/pfaffian_final_version.ipynb\" target=\"_parent\"><img src=\"https://colab.research.google.com/assets/colab-badge.svg\" alt=\"Open In Colab\"/></a>"
      ]
    },
    {
      "cell_type": "code",
      "source": [
        "import itertools\n",
        "from sympy import symbols, Matrix, det, factorial, expand\n",
        "\n"
      ],
      "metadata": {
        "id": "nA__UtGs_vqw"
      },
      "execution_count": 103,
      "outputs": []
    },
    {
      "cell_type": "code",
      "execution_count": 104,
      "metadata": {
        "id": "zyHH_WwK6aqb"
      },
      "outputs": [],
      "source": [
        "def permutations_of_2n(rows):\n",
        "  column_labels=[]\n",
        "  for i in range(rows):\n",
        "    column_labels.append(i+1)\n",
        "  perms=list(itertools.permutations(column_labels))\n",
        "  return perms"
      ]
    },
    {
      "cell_type": "code",
      "source": [
        "def sign_of_permutation(perm):\n",
        "    m = len(perm)\n",
        "    inversions = 0\n",
        "    for i in range(m):\n",
        "        for j in range(i + 1, m):\n",
        "            if perm[i] > perm[j]:\n",
        "                inversions += 1\n",
        "    return 1 if inversions % 2 == 0 else -1"
      ],
      "metadata": {
        "id": "JfWy591jLQMW"
      },
      "execution_count": 105,
      "outputs": []
    },
    {
      "cell_type": "code",
      "source": [
        "def pfaffian(mat):\n",
        "  # print('The matrix we are considering is')\n",
        "  # print(mat)\n",
        "  # print('the number of rows in your matrix is:')\n",
        "  # print(mat.shape[0])\n",
        "  r=mat.shape[0]\n",
        "  n = int(r/2)\n",
        "  # print(' so n is ')\n",
        "  # print(n)\n",
        "  permutations = permutations_of_2n(r)\n",
        "  sum = 0\n",
        "  for i in range(len(permutations)):\n",
        "    prod = 1\n",
        "    for j in range(n):\n",
        "      temp1=int(permutations[i][2*j])-1\n",
        "      temp2=int(permutations[i][2*j+1])-1\n",
        "      prod = prod * mat[temp1,temp2]\n",
        "    sum = sum + sign_of_permutation(permutations[i])*prod\n",
        "  # print('the sum is')\n",
        "  # print(sum)\n",
        "  value = (1 / ((2**n)*factorial(n)))*sum\n",
        "  # print('and the pfaffiain is ')\n",
        "  # print(value)\n",
        "  return value\n"
      ],
      "metadata": {
        "id": "CLYNwgtkJiUc"
      },
      "execution_count": 106,
      "outputs": []
    },
    {
      "cell_type": "code",
      "source": [
        "# Define variables\n",
        "a,b,c,d,e,f,g,h,k = symbols('a b c d e f g h k')\n",
        "\n",
        "N = Matrix([[0,a,-b,0,0,0],[-a,0,c,d,0,0],[b,-c,0,e,-f,0],[0,-d,-e,0,g,h],[0,0,f,-g,0,k],[0,0,0,-h,-k,0]])\n",
        "print(N)\n",
        "print('the determinant of the above matrix is:')\n",
        "print(det(N))\n",
        "\n",
        "K=Matrix([[a,0],[0,-a]])\n",
        "print(pfaffian(K))\n",
        "print(pfaffian(N))\n",
        "\n",
        "poly=det(N)-(pfaffian(N))**2\n",
        "print(expand(poly))\n"
      ],
      "metadata": {
        "colab": {
          "base_uri": "https://localhost:8080/"
        },
        "id": "ZHEHN5AhJ-ox",
        "outputId": "2dd6659f-499e-441a-d90e-fbd05f0a603c"
      },
      "execution_count": 107,
      "outputs": [
        {
          "output_type": "stream",
          "name": "stdout",
          "text": [
            "Matrix([[0, a, -b, 0, 0, 0], [-a, 0, c, d, 0, 0], [b, -c, 0, e, -f, 0], [0, -d, -e, 0, g, h], [0, 0, f, -g, 0, k], [0, 0, 0, -h, -k, 0]])\n",
            "the determinant of the above matrix is:\n",
            "a**2*e**2*k**2 + 2*a**2*e*f*h*k + a**2*f**2*h**2 + 2*a*b*d*e*k**2 + 2*a*b*d*f*h*k + b**2*d**2*k**2\n",
            "0\n",
            "a*e*k + a*f*h + b*d*k\n",
            "0\n"
          ]
        }
      ]
    }
  ]
}