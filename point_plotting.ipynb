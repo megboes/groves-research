{
  "nbformat": 4,
  "nbformat_minor": 0,
  "metadata": {
    "colab": {
      "provenance": [],
      "authorship_tag": "ABX9TyMFdUWP599xAewhZyxDQLE9",
      "include_colab_link": true
    },
    "kernelspec": {
      "name": "python3",
      "display_name": "Python 3"
    },
    "language_info": {
      "name": "python"
    }
  },
  "cells": [
    {
      "cell_type": "markdown",
      "metadata": {
        "id": "view-in-github",
        "colab_type": "text"
      },
      "source": [
        "<a href=\"https://colab.research.google.com/github/megboes/groves-research/blob/main/point_plotting.ipynb\" target=\"_parent\"><img src=\"https://colab.research.google.com/assets/colab-badge.svg\" alt=\"Open In Colab\"/></a>"
      ]
    },
    {
      "cell_type": "code",
      "execution_count": 2,
      "metadata": {
        "colab": {
          "base_uri": "https://localhost:8080/",
          "height": 286
        },
        "id": "9GCFQ3QhWX1M",
        "outputId": "e58c79a4-129c-44b3-9c51-c5ee52a48662"
      },
      "outputs": [
        {
          "output_type": "display_data",
          "data": {
            "text/plain": [
              "<Figure size 640x480 with 1 Axes>"
            ],
            "image/png": "[encoded data removed]"
          },
          "metadata": {}
        }
      ],
      "source": [
        "import matplotlib.pyplot as plt\n",
        "\n",
        "# Define the coordinates of the points for the line segments\n",
        "xi1, yi1 = 2, 3\n",
        "xt1, yt1 = 1, 2\n",
        "\n",
        "xi2, yi2 = 1, 3\n",
        "xt2, yt2 = 3, 2\n",
        "\n",
        "\n",
        "\n",
        "# Create a figure without axes\n",
        "fig, ax = plt.subplots()\n",
        "\n",
        "# Plot the first line segment (from (2,3) to (1,2))\n",
        "ax.plot([x1, x2], [y1, y2],color='blue', marker='o')\n",
        "\n",
        "# Plot the second line segment (from (2,2) to (4,4))\n",
        "ax.plot([x3, x4], [y3, y4],color='cyan', marker='o')\n",
        "\n",
        "# Annotate the points with coordinates\n",
        "ax.text(xi1, yi1, f'({xi1},{yi1})', verticalalignment='bottom', horizontalalignment='right', fontsize=9)\n",
        "ax.text(xt1, yt1, f'({xt1},{yt1})', verticalalignment='bottom', horizontalalignment='right', fontsize=9)\n",
        "ax.text(xi2, yi2, f'({xi2},{yi2})', verticalalignment='bottom', horizontalalignment='right', fontsize=9)\n",
        "ax.text(xt2, yt2, f'({xt2},{yt2})', verticalalignment='bottom', horizontalalignment='right', fontsize=9)\n",
        "\n",
        "# Set the aspect ratio to be equal\n",
        "ax.set_aspect('equal')\n",
        "\n",
        "# Remove axis and ticks\n",
        "ax.axis('off')\n",
        "\n",
        "# Display the plot\n",
        "plt.show()"
      ]
    },
    {
      "cell_type": "markdown",
      "source": [
        "What on earth is going on???"
      ],
      "metadata": {
        "id": "hhdSlawAnMoP"
      }
    },
    {
      "cell_type": "code",
      "source": [
        "# @title Default title text\n",
        "print('hey there good looking')\n",
        "plt.show()"
      ],
      "metadata": {
        "colab": {
          "base_uri": "https://localhost:8080/"
        },
        "cellView": "form",
        "id": "1Ti-B4YZm9xs",
        "outputId": "65d5cb73-ebe9-4d3f-9b44-e8fbedafbaae"
      },
      "execution_count": 4,
      "outputs": [
        {
          "output_type": "stream",
          "name": "stdout",
          "text": [
            "hey there good looking\n"
          ]
        }
      ]
    }
  ]
}