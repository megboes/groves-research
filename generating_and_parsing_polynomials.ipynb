{
  "nbformat": 4,
  "nbformat_minor": 0,
  "metadata": {
    "colab": {
      "provenance": [],
      "authorship_tag": "ABX9TyNlRVEixXA630+v2uMIB8zH",
      "include_colab_link": true
    },
    "kernelspec": {
      "name": "python3",
      "display_name": "Python 3"
    },
    "language_info": {
      "name": "python"
    }
  },
  "cells": [
    {
      "cell_type": "markdown",
      "metadata": {
        "id": "view-in-github",
        "colab_type": "text"
      },
      "source": [
        "<a href=\"https://colab.research.google.com/github/megboes/groves-research/blob/main/generating_and_parsing_polynomials.ipynb\" target=\"_parent\"><img src=\"https://colab.research.google.com/assets/colab-badge.svg\" alt=\"Open In Colab\"/></a>"
      ]
    },
    {
      "cell_type": "code",
      "execution_count": 16,
      "metadata": {
        "colab": {
          "base_uri": "https://localhost:8080/"
        },
        "id": "L9gjTuP6DCf3",
        "outputId": "455f7997-aaf2-40e1-e76a-9224e2d966ac"
      },
      "outputs": [
        {
          "output_type": "stream",
          "name": "stdout",
          "text": [
            "3*x**2*y + 2*x*y**2 - y\n",
            "x**5\n",
            "x**5 + 3*x**2*y + 2*x*y**2 - y\n",
            "(3*x**2*y + 2*x*y**2 - y)*(x**5 + 3*x**2*y + 2*x*y**2 - y)\n",
            "3*x**7*y + 2*x**6*y**2 - x**5*y + 9*x**4*y**2 + 12*x**3*y**3 + 4*x**2*y**4 - 6*x**2*y**2 - 4*x*y**3 + y**2\n"
          ]
        }
      ],
      "source": [
        "import sympy as sp\n",
        "\n",
        "# Define symbolic variables\n",
        "x, y = sp.symbols('x y')\n",
        "\n",
        "# Define a polynomial in two variables: 3x^2y + 2xy^2 - y\n",
        "poly1 = 3*x**2*y + 2*x*y**2 - y\n",
        "poly2 = x**5\n",
        "poly3=poly1 + poly2\n",
        "poly4=poly3*poly1\n",
        "poly5 = sp.expand(poly4)\n",
        "\n",
        "print(poly1)\n",
        "print(poly2)\n",
        "print(poly3)\n",
        "print(poly4)\n",
        "print(poly5)\n",
        "\n",
        "# Get the individual monomials from the polynomial\n",
        "monomials = poly5.as_ordered_terms()\n",
        "\n",
        "# Print the monomials\n",
        "for monomial in monomials:\n",
        "    # Extract the coefficient and powers of x and y from each monomial\n",
        "    coeff = monomial.as_coefficient(monomial)\n",
        "    powers = monomial.as_powers_dict()\n",
        "\n",
        "    # Construct the monomial expression\n",
        "    monomial_expr = coeff\n",
        "    for var, exp in powers.items():\n",
        "        monomial_expr *= (var ** exp)\n",
        "\n",
        "    #print(monomial_expr)"
      ]
    }
  ]
}