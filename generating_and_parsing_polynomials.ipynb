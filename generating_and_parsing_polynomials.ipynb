{
  "nbformat": 4,
  "nbformat_minor": 0,
  "metadata": {
    "colab": {
      "provenance": [],
      "authorship_tag": "ABX9TyPSS7165m8LvBukM1ZJGhv4",
      "include_colab_link": true
    },
    "kernelspec": {
      "name": "python3",
      "display_name": "Python 3"
    },
    "language_info": {
      "name": "python"
    }
  },
  "cells": [
    {
      "cell_type": "markdown",
      "metadata": {
        "id": "view-in-github",
        "colab_type": "text"
      },
      "source": [
        "<a href=\"https://colab.research.google.com/github/megboes/groves-research/blob/main/generating_and_parsing_polynomials.ipynb\" target=\"_parent\"><img src=\"https://colab.research.google.com/assets/colab-badge.svg\" alt=\"Open In Colab\"/></a>"
      ]
    },
    {
      "cell_type": "code",
      "execution_count": 13,
      "metadata": {
        "colab": {
          "base_uri": "https://localhost:8080/"
        },
        "id": "L9gjTuP6DCf3",
        "outputId": "314b9806-312f-4c12-f334-914fc7cb4152"
      },
      "outputs": [
        {
          "output_type": "stream",
          "name": "stdout",
          "text": [
            "a0\n",
            "a1\n",
            "a2\n",
            "a3\n",
            "a4\n",
            "a5\n",
            "3*x**2*y + 2*x*y**2 - y\n",
            "x**5\n",
            "x**5 + 3*x**2*y + 2*x*y**2 - y\n",
            "(3*x**2*y + 2*x*y**2 - y)*(x**5 + 3*x**2*y + 2*x*y**2 - y)\n",
            "3*x**7*y + 2*x**6*y**2 - x**5*y + 9*x**4*y**2 + 12*x**3*y**3 + 4*x**2*y**4 - 6*x**2*y**2 - 4*x*y**3 + y**2\n",
            "3*a0**2*a1 + 2*a2*a3**2 - a4\n",
            "(3*a0**2*a1 + 2*a2*a3**2 - a4)*(3*x**7*y + 2*x**6*y**2 - x**5*y + 9*x**4*y**2 + 12*x**3*y**3 + 4*x**2*y**4 - 6*x**2*y**2 - 4*x*y**3 + y**2)\n",
            "9*a0**2*a1*x**7*y + 6*a0**2*a1*x**6*y**2 - 3*a0**2*a1*x**5*y + 27*a0**2*a1*x**4*y**2 + 36*a0**2*a1*x**3*y**3 + 12*a0**2*a1*x**2*y**4 - 18*a0**2*a1*x**2*y**2 - 12*a0**2*a1*x*y**3 + 3*a0**2*a1*y**2 + 6*a2*a3**2*x**7*y + 4*a2*a3**2*x**6*y**2 - 2*a2*a3**2*x**5*y + 18*a2*a3**2*x**4*y**2 + 24*a2*a3**2*x**3*y**3 + 8*a2*a3**2*x**2*y**4 - 12*a2*a3**2*x**2*y**2 - 8*a2*a3**2*x*y**3 + 2*a2*a3**2*y**2 - 3*a4*x**7*y - 2*a4*x**6*y**2 + a4*x**5*y - 9*a4*x**4*y**2 - 12*a4*x**3*y**3 - 4*a4*x**2*y**4 + 6*a4*x**2*y**2 + 4*a4*x*y**3 - a4*y**2\n",
            "9*a0**2*a1*x**7*y\n",
            "6*a0**2*a1*x**6*y**2\n",
            "-3*a0**2*a1*x**5*y\n",
            "27*a0**2*a1*x**4*y**2\n",
            "36*a0**2*a1*x**3*y**3\n",
            "12*a0**2*a1*x**2*y**4\n",
            "-18*a0**2*a1*x**2*y**2\n",
            "-12*a0**2*a1*x*y**3\n",
            "3*a0**2*a1*y**2\n",
            "6*a2*a3**2*x**7*y\n",
            "4*a2*a3**2*x**6*y**2\n",
            "-2*a2*a3**2*x**5*y\n",
            "18*a2*a3**2*x**4*y**2\n",
            "24*a2*a3**2*x**3*y**3\n",
            "8*a2*a3**2*x**2*y**4\n",
            "-12*a2*a3**2*x**2*y**2\n",
            "-8*a2*a3**2*x*y**3\n",
            "2*a2*a3**2*y**2\n",
            "-3*a4*x**7*y\n",
            "-2*a4*x**6*y**2\n",
            "a4*x**5*y\n",
            "-9*a4*x**4*y**2\n",
            "-12*a4*x**3*y**3\n",
            "-4*a4*x**2*y**4\n",
            "6*a4*x**2*y**2\n",
            "4*a4*x*y**3\n",
            "-a4*y**2\n"
          ]
        }
      ],
      "source": [
        "import sympy as sp\n",
        "\n",
        "# Define symbolic variables\n",
        "x, y = sp.symbols('x y')\n",
        "\n",
        "a=[]\n",
        "for i in range(6):\n",
        "  a.append(sp.symbols('a'+str(i)))\n",
        "\n",
        "for i in range(6):\n",
        "  print(a[i])\n",
        "\n",
        "\n",
        "# Define a polynomial in two variables: 3x^2y + 2xy^2 - y\n",
        "poly1 = 3*x**2*y + 2*x*y**2 - y\n",
        "poly2 = x**5\n",
        "poly3=poly1 + poly2\n",
        "poly4=poly3*poly1\n",
        "poly5 = sp.expand(poly4)\n",
        "poly6= 3*a[0]**2*a[1] + 2*a[2]*a[3]**2 - a[4]\n",
        "poly7=poly6*poly5\n",
        "poly8 = sp.expand(poly7)\n",
        "\n",
        "print(poly1)\n",
        "print(poly2)\n",
        "print(poly3)\n",
        "print(poly4)\n",
        "print(poly5)\n",
        "print(poly6)\n",
        "print(poly7)\n",
        "print(poly8)\n",
        "\n",
        "# Get the individual monomials from the polynomial\n",
        "monomials = poly8.as_ordered_terms()\n",
        "\n",
        "# Print the monomials\n",
        "for monomial in monomials:\n",
        "    # Extract the coefficient and powers of x and y from each monomial\n",
        "    coeff = monomial.as_coefficient(monomial)\n",
        "    powers = monomial.as_powers_dict()\n",
        "\n",
        "    # Construct the monomial expression\n",
        "    monomial_expr = coeff\n",
        "    for var, exp in powers.items():\n",
        "        monomial_expr *= (var ** exp)\n",
        "\n",
        "    print(monomial_expr)"
      ]
    }
  ]
}