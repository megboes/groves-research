{
  "nbformat": 4,
  "nbformat_minor": 0,
  "metadata": {
    "colab": {
      "provenance": [],
      "authorship_tag": "ABX9TyP9+z/4Fo+CPzuUlZXD1vAm",
      "include_colab_link": true
    },
    "kernelspec": {
      "name": "python3",
      "display_name": "Python 3"
    },
    "language_info": {
      "name": "python"
    }
  },
  "cells": [
    {
      "cell_type": "markdown",
      "metadata": {
        "id": "view-in-github",
        "colab_type": "text"
      },
      "source": [
        "<a href=\"https://colab.research.google.com/github/megboes/groves-research/blob/main/pfaffian.ipynb\" target=\"_parent\"><img src=\"https://colab.research.google.com/assets/colab-badge.svg\" alt=\"Open In Colab\"/></a>"
      ]
    },
    {
      "cell_type": "code",
      "source": [
        "from sympy import symbols, Matrix, det\n",
        "\n",
        "# Define variables\n",
        "x, y = symbols('x y')\n",
        "\n",
        "# Create a matrix with variables\n",
        "A = Matrix([[x, 1], [2, y]])\n",
        "\n",
        "# Calculate the determinant\n",
        "determinant = det(A)\n",
        "\n",
        "print(determinant)\n",
        "\n",
        "a,b,c,d,e,f,g,h,k = symbols('a b c d e f g h k')\n",
        "\n",
        "B = Matrix([[a,0,d,0],[b,c,0,0],[e,0,g,h],[0,f,0,k]])\n",
        "print(det(B))"
      ],
      "metadata": {
        "colab": {
          "base_uri": "https://localhost:8080/"
        },
        "id": "rS3C6NyRpXuv",
        "outputId": "cf22136b-bc69-429e-9fc0-33952f74da06"
      },
      "execution_count": 7,
      "outputs": [
        {
          "output_type": "stream",
          "name": "stdout",
          "text": [
            "x*y - 2\n",
            "a*c*g*k - b*d*f*h - c*d*e*k\n"
          ]
        }
      ]
    },
    {
      "cell_type": "code",
      "source": [
        "\n",
        "my_set = [1, 2, 3]\n",
        "\n",
        "#bigger_set = IntegerRange(1,1,10)\n",
        "\n",
        "print(my_set)\n",
        "\n",
        "#print(bigger_set)\n",
        "\n",
        "\n"
      ],
      "metadata": {
        "colab": {
          "base_uri": "https://localhost:8080/"
        },
        "id": "918pMD9uw9YI",
        "outputId": "99d23284-5485-48f7-9050-e23c368550b6"
      },
      "execution_count": 1,
      "outputs": [
        {
          "output_type": "stream",
          "name": "stdout",
          "text": [
            "[1, 2, 3]\n"
          ]
        }
      ]
    },
    {
      "cell_type": "code",
      "source": [
        "#pip install pfapack\n",
        "from sympy import symbols, Matrix, det\n",
        "from pfapack import pfaffian as pf\n",
        "\n",
        "A = np.array([[0,2],[-2,0]])\n",
        "print(A)\n",
        "\n",
        "\n",
        "B=Matrix(A)\n",
        "print(B)\n",
        "\n",
        "\n",
        "count = det(B) # so we can take determinants of Matrix's\n",
        "print(count)\n",
        "\n",
        "big_try = pf.pfaffian(A) # and we can take Pfaffian's of np.array's\n",
        "print(big_try)\n",
        "\n",
        "C=np.array(B) = #anc we can convert matrices to arrays and vice versa.\n",
        "print(C)\n",
        "\n",
        "#can we take a determinant of an array?\n",
        "\n",
        "#can we take a pfaffian of a matrix?\n"
      ],
      "metadata": {
        "colab": {
          "base_uri": "https://localhost:8080/"
        },
        "id": "K0Iyf-aO1Y_l",
        "outputId": "d97236e0-8ad5-4e9f-eb50-8a770beac9aa"
      },
      "execution_count": 33,
      "outputs": [
        {
          "output_type": "stream",
          "name": "stdout",
          "text": [
            "[[ 0  2]\n",
            " [-2  0]]\n",
            "Matrix([[0, 2], [-2, 0]])\n",
            "4\n",
            "2.0\n",
            "[[0 2]\n",
            " [-2 0]]\n"
          ]
        }
      ]
    }
  ]
}