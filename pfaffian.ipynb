{
  "nbformat": 4,
  "nbformat_minor": 0,
  "metadata": {
    "colab": {
      "provenance": [],
      "authorship_tag": "ABX9TyNPjh4QIML8RgoKS9wcCr3j",
      "include_colab_link": true
    },
    "kernelspec": {
      "name": "python3",
      "display_name": "Python 3"
    },
    "language_info": {
      "name": "python"
    }
  },
  "cells": [
    {
      "cell_type": "markdown",
      "metadata": {
        "id": "view-in-github",
        "colab_type": "text"
      },
      "source": [
        "<a href=\"https://colab.research.google.com/github/megboes/groves-research/blob/main/pfaffian.ipynb\" target=\"_parent\"><img src=\"https://colab.research.google.com/assets/colab-badge.svg\" alt=\"Open In Colab\"/></a>"
      ]
    },
    {
      "cell_type": "code",
      "source": [
        "from sympy import symbols, Matrix, det\n",
        "\n",
        "# Define variables\n",
        "x, y = symbols('x y')\n",
        "\n",
        "# Create a matrix with variables\n",
        "A = Matrix([[x, 1], [2, y]])\n",
        "\n",
        "# Calculate the determinant\n",
        "determinant = det(A)\n",
        "\n",
        "print(determinant)\n",
        "\n",
        "a,b,c,d,e,f,g,h,k = symbols('a b c d e f g h k')\n",
        "\n",
        "B = Matrix([[a,0,d,0],[b,c,0,0],[e,0,g,h],[0,f,0,k]])\n",
        "print(det(B))"
      ],
      "metadata": {
        "colab": {
          "base_uri": "https://localhost:8080/"
        },
        "id": "rS3C6NyRpXuv",
        "outputId": "cf22136b-bc69-429e-9fc0-33952f74da06"
      },
      "execution_count": 7,
      "outputs": [
        {
          "output_type": "stream",
          "name": "stdout",
          "text": [
            "x*y - 2\n",
            "a*c*g*k - b*d*f*h - c*d*e*k\n"
          ]
        }
      ]
    },
    {
      "cell_type": "code",
      "source": [
        "\n",
        "my_set = [1, 2, 3]\n",
        "\n",
        "#bigger_set = IntegerRange(1,1,10)\n",
        "\n",
        "print(my_set)\n",
        "\n",
        "#print(bigger_set)\n",
        "\n",
        "\n"
      ],
      "metadata": {
        "colab": {
          "base_uri": "https://localhost:8080/"
        },
        "id": "918pMD9uw9YI",
        "outputId": "99d23284-5485-48f7-9050-e23c368550b6"
      },
      "execution_count": 1,
      "outputs": [
        {
          "output_type": "stream",
          "name": "stdout",
          "text": [
            "[1, 2, 3]\n"
          ]
        }
      ]
    },
    {
      "cell_type": "code",
      "source": [
        "#pip install pfapack\n",
        "from sympy import symbols, Matrix, det, expand\n",
        "from pfapack import pfaffian as pf\n",
        "a,b,c,d,e,f,g,h,k = symbols('a b c d e f g h k')\n",
        "\n",
        "Mp = np.array([[a,0,d,0],[b,c,0,0],[e,0,g,h],[0,f,0,k]])\n",
        "print('M is ')\n",
        "print(Mp)\n",
        "\n",
        "Md=Matrix(Mp)\n",
        "#print(Md)\n",
        "\n",
        "determinant_of_M = det(Md) # so we can take determinants of Matrix's\n",
        "print('The determinant of M is ')\n",
        "print(determinant_of_M)\n",
        "\n",
        "Ap=np.array([[0,a,0,0,0,d,0,0],[-a,0,-b,0,-e,0,0,0],[0,b,0,c,0,0,0,0],[0,0,-c,0,0,0,-f,0],[0,e,0,0,0,g,0,h],[-d,0,0,0,-g,0,0,0],[0,0,0,f,0,0,0,k],[0,0,0,0,-h,0,-k,0]])\n",
        "print('A is ')\n",
        "print(Ap)\n",
        "\n",
        "Ad=Matrix(Ap)\n",
        "\n",
        "determinant_of_A=det(Ad)\n",
        "print('The determinant of A is ')\n",
        "print(determinant_of_A)\n",
        "\n",
        "#pfaffian_of_A =pf.pfaffian(Ap)\n",
        "#print('The Pfaffian of A is ')\n",
        "#print(pfaffian_of_A)\n",
        "\n",
        "print('Ahhh!!! I need help computing a pfaffian with variables?')\n",
        "test = np.array([[0,-2],[2,0]])\n",
        "pfaffian_of_test = pf.pfaffian(test)\n",
        "print(pfaffian_of_test)\n",
        "\n",
        "\n",
        "\n",
        "print('We can compare this to the square of the determinent of M which is')\n",
        "print(expand(determinant_of_M**2))\n",
        "\n",
        "\n",
        "\n",
        "\n"
      ],
      "metadata": {
        "colab": {
          "base_uri": "https://localhost:8080/"
        },
        "id": "K0Iyf-aO1Y_l",
        "outputId": "d1e87151-c31a-42fd-92ff-ccdc13b2d3a6"
      },
      "execution_count": 74,
      "outputs": [
        {
          "output_type": "stream",
          "name": "stdout",
          "text": [
            "M is \n",
            "[[a 0 d 0]\n",
            " [b c 0 0]\n",
            " [e 0 g h]\n",
            " [0 f 0 k]]\n",
            "The determinant of M is \n",
            "a*c*g*k - b*d*f*h - c*d*e*k\n",
            "A is \n",
            "[[0 a 0 0 0 d 0 0]\n",
            " [-a 0 -b 0 -e 0 0 0]\n",
            " [0 b 0 c 0 0 0 0]\n",
            " [0 0 -c 0 0 0 -f 0]\n",
            " [0 e 0 0 0 g 0 h]\n",
            " [-d 0 0 0 -g 0 0 0]\n",
            " [0 0 0 f 0 0 0 k]\n",
            " [0 0 0 0 -h 0 -k 0]]\n",
            "The determinant of A is \n",
            "a**2*c**2*g**2*k**2 - 2*a*b*c*d*f*g*h*k - 2*a*c**2*d*e*g*k**2 + b**2*d**2*f**2*h**2 + 2*b*c*d**2*e*f*h*k + c**2*d**2*e**2*k**2\n",
            "Ahhh!!! I need help computing a pfaffian with variables?\n",
            "-2.0\n",
            "We can compare this to the square of the determinent of M which is\n",
            "a**2*c**2*g**2*k**2 - 2*a*b*c*d*f*g*h*k - 2*a*c**2*d*e*g*k**2 + b**2*d**2*f**2*h**2 + 2*b*c*d**2*e*f*h*k + c**2*d**2*e**2*k**2\n"
          ]
        }
      ]
    },
    {
      "cell_type": "code",
      "source": [
        "import sympy as sp\n",
        "\n",
        "def pfaffian(matrix):\n",
        "    n = matrix.shape[0]\n",
        "    if n % 2 != 0:\n",
        "        return 0\n",
        "    if n == 2:\n",
        "        return matrix[0, 1]\n",
        "    else:\n",
        "        pf = 0\n",
        "        for i in range(1, n):\n",
        "            minor = matrix[1:, :].col_del(i).row_del(i)\n",
        "            pf += (-1)**i * matrix[0, i] * pfaffian(minor)\n",
        "        return pf\n",
        "\n",
        "# Example usage\n",
        "#A=sp.Matrix([[0,'d',0,'a'],['-d',0,0,0],[0,0,0,0],['-a',0,0,0]])\n",
        "A=sp.Matrix([[0,'a',0,0],['-a',0,0,0],[0,0,0,2],[0,0,-2,0]])\n",
        "print(A)\n",
        "#A = sp.Matrix([[0,'a',0,0,0,'d',0,0],['-a',0,'-b',0,'-e',0,0,0],[0,'b',0,'c',0,0,0,0],[0,0,'-c',0,0,0,'-f',0],[0,'e',0,0,0,'g',0,'h'],['-d',0,0,0,'-g',0,0,0],[0,0,0,'f',0,0,0,'k'],[0,0,0,0,'-h',0,'-k',0]])\n",
        "print(pfaffian(A))"
      ],
      "metadata": {
        "colab": {
          "base_uri": "https://localhost:8080/",
          "height": 349
        },
        "id": "o_HbCP-XF_Nc",
        "outputId": "63b487da-01c5-4cad-9afc-d9c14b906449"
      },
      "execution_count": 87,
      "outputs": [
        {
          "output_type": "stream",
          "name": "stdout",
          "text": [
            "Matrix([[0, a, 0, 0], [-a, 0, 0, 0], [0, 0, 0, 2], [0, 0, -2, 0]])\n"
          ]
        },
        {
          "output_type": "error",
          "ename": "AttributeError",
          "evalue": "'NoneType' object has no attribute 'row_del'",
          "traceback": [
            "\u001b[0;31m---------------------------------------------------------------------------\u001b[0m",
            "\u001b[0;31mAttributeError\u001b[0m                            Traceback (most recent call last)",
            "\u001b[0;32m<ipython-input-87-b09c7ca02721>\u001b[0m in \u001b[0;36m<cell line: 21>\u001b[0;34m()\u001b[0m\n\u001b[1;32m     19\u001b[0m \u001b[0mprint\u001b[0m\u001b[0;34m(\u001b[0m\u001b[0mA\u001b[0m\u001b[0;34m)\u001b[0m\u001b[0;34m\u001b[0m\u001b[0;34m\u001b[0m\u001b[0m\n\u001b[1;32m     20\u001b[0m \u001b[0;31m#A = sp.Matrix([[0,'a',0,0,0,'d',0,0],['-a',0,'-b',0,'-e',0,0,0],[0,'b',0,'c',0,0,0,0],[0,0,'-c',0,0,0,'-f',0],[0,'e',0,0,0,'g',0,'h'],['-d',0,0,0,'-g',0,0,0],[0,0,0,'f',0,0,0,'k'],[0,0,0,0,'-h',0,'-k',0]])\u001b[0m\u001b[0;34m\u001b[0m\u001b[0;34m\u001b[0m\u001b[0m\n\u001b[0;32m---> 21\u001b[0;31m \u001b[0mprint\u001b[0m\u001b[0;34m(\u001b[0m\u001b[0mpfaffian\u001b[0m\u001b[0;34m(\u001b[0m\u001b[0mA\u001b[0m\u001b[0;34m)\u001b[0m\u001b[0;34m)\u001b[0m\u001b[0;34m\u001b[0m\u001b[0;34m\u001b[0m\u001b[0m\n\u001b[0m",
            "\u001b[0;32m<ipython-input-87-b09c7ca02721>\u001b[0m in \u001b[0;36mpfaffian\u001b[0;34m(matrix)\u001b[0m\n\u001b[1;32m     10\u001b[0m         \u001b[0mpf\u001b[0m \u001b[0;34m=\u001b[0m \u001b[0;36m0\u001b[0m\u001b[0;34m\u001b[0m\u001b[0;34m\u001b[0m\u001b[0m\n\u001b[1;32m     11\u001b[0m         \u001b[0;32mfor\u001b[0m \u001b[0mi\u001b[0m \u001b[0;32min\u001b[0m \u001b[0mrange\u001b[0m\u001b[0;34m(\u001b[0m\u001b[0;36m1\u001b[0m\u001b[0;34m,\u001b[0m \u001b[0mn\u001b[0m\u001b[0;34m)\u001b[0m\u001b[0;34m:\u001b[0m\u001b[0;34m\u001b[0m\u001b[0;34m\u001b[0m\u001b[0m\n\u001b[0;32m---> 12\u001b[0;31m             \u001b[0mminor\u001b[0m \u001b[0;34m=\u001b[0m \u001b[0mmatrix\u001b[0m\u001b[0;34m[\u001b[0m\u001b[0;36m1\u001b[0m\u001b[0;34m:\u001b[0m\u001b[0;34m,\u001b[0m \u001b[0;34m:\u001b[0m\u001b[0;34m]\u001b[0m\u001b[0;34m.\u001b[0m\u001b[0mcol_del\u001b[0m\u001b[0;34m(\u001b[0m\u001b[0mi\u001b[0m\u001b[0;34m)\u001b[0m\u001b[0;34m.\u001b[0m\u001b[0mrow_del\u001b[0m\u001b[0;34m(\u001b[0m\u001b[0mi\u001b[0m\u001b[0;34m)\u001b[0m\u001b[0;34m\u001b[0m\u001b[0;34m\u001b[0m\u001b[0m\n\u001b[0m\u001b[1;32m     13\u001b[0m             \u001b[0mpf\u001b[0m \u001b[0;34m+=\u001b[0m \u001b[0;34m(\u001b[0m\u001b[0;34m-\u001b[0m\u001b[0;36m1\u001b[0m\u001b[0;34m)\u001b[0m\u001b[0;34m**\u001b[0m\u001b[0mi\u001b[0m \u001b[0;34m*\u001b[0m \u001b[0mmatrix\u001b[0m\u001b[0;34m[\u001b[0m\u001b[0;36m0\u001b[0m\u001b[0;34m,\u001b[0m \u001b[0mi\u001b[0m\u001b[0;34m]\u001b[0m \u001b[0;34m*\u001b[0m \u001b[0mpfaffian\u001b[0m\u001b[0;34m(\u001b[0m\u001b[0mminor\u001b[0m\u001b[0;34m)\u001b[0m\u001b[0;34m\u001b[0m\u001b[0;34m\u001b[0m\u001b[0m\n\u001b[1;32m     14\u001b[0m         \u001b[0;32mreturn\u001b[0m \u001b[0mpf\u001b[0m\u001b[0;34m\u001b[0m\u001b[0;34m\u001b[0m\u001b[0m\n",
            "\u001b[0;31mAttributeError\u001b[0m: 'NoneType' object has no attribute 'row_del'"
          ]
        }
      ]
    }
  ]
}