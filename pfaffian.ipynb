{
  "nbformat": 4,
  "nbformat_minor": 0,
  "metadata": {
    "colab": {
      "provenance": [],
      "authorship_tag": "ABX9TyOwHvAGgCaiJG+Pr/e1+aEH",
      "include_colab_link": true
    },
    "kernelspec": {
      "name": "python3",
      "display_name": "Python 3"
    },
    "language_info": {
      "name": "python"
    }
  },
  "cells": [
    {
      "cell_type": "markdown",
      "metadata": {
        "id": "view-in-github",
        "colab_type": "text"
      },
      "source": [
        "<a href=\"https://colab.research.google.com/github/megboes/groves-research/blob/main/pfaffian.ipynb\" target=\"_parent\"><img src=\"https://colab.research.google.com/assets/colab-badge.svg\" alt=\"Open In Colab\"/></a>"
      ]
    },
    {
      "cell_type": "code",
      "source": [
        "from sympy import symbols, Matrix, det\n",
        "\n",
        "# Define variables\n",
        "x, y = symbols('x y')\n",
        "\n",
        "# Create a matrix with variables\n",
        "A = Matrix([[x, 1], [2, y]])\n",
        "\n",
        "# Calculate the determinant\n",
        "determinant = det(A)\n",
        "\n",
        "print(determinant)\n",
        "\n",
        "a,b,c,d,e,f,g,h,k = symbols('a b c d e f g h k')\n",
        "\n",
        "B = Matrix([[a,0,d,0],[b,c,0,0],[e,0,g,h],[0,f,0,k]])\n",
        "print(det(B))"
      ],
      "metadata": {
        "colab": {
          "base_uri": "https://localhost:8080/"
        },
        "id": "rS3C6NyRpXuv",
        "outputId": "cf22136b-bc69-429e-9fc0-33952f74da06"
      },
      "execution_count": 7,
      "outputs": [
        {
          "output_type": "stream",
          "name": "stdout",
          "text": [
            "x*y - 2\n",
            "a*c*g*k - b*d*f*h - c*d*e*k\n"
          ]
        }
      ]
    }
  ]
}